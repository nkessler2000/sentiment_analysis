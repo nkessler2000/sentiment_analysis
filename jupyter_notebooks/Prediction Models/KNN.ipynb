{
 "cells": [
  {
   "cell_type": "code",
   "execution_count": 1,
   "metadata": {},
   "outputs": [],
   "source": [
    "# Data Prep\n",
    "\n",
    "# import modules and load data\n",
    "import pandas as pd\n",
    "import numpy as np\n",
    "import matplotlib.pyplot as plt\n",
    "import seaborn as sns\n",
    "import sqlite3\n",
    "import os\n",
    "from scipy import stats\n",
    "\n",
    "my_dir = os.path.realpath('.')\n",
    "db_file = os.path.join(my_dir, '../../gr_sentiment_analysis/data/books.db')\n",
    "conn = sqlite3.connect(db_file)\n",
    "\n",
    "review_stats = pd.read_sql_query('SELECT * FROM review_stats',con=conn)\n",
    "\n",
    "# Clean up the data a bit. Remove reviews with a score of 0 since they won't be part of the prediction model \n",
    "\n",
    "review_stats = review_stats[review_stats['rating'] != 0]\n",
    "\n",
    "# Review ID is not needed for this analysis so should be dropped\n",
    "if review_stats.columns.contains('review_id'):\n",
    "    review_stats.drop('review_id', axis=1, inplace=True)\n",
    "\n",
    "# remove any reviews with a total AFINN or Bing count of 0, since this means there are no matching\n",
    "# words in either lexicon and these reviews cannot be used in this analysis\n",
    "review_stats = review_stats[(review_stats.total_afinn_count != 0) & (review_stats.total_bing_count != 0)\n",
    "                           & (review_stats.total_mpqa_count != 0) & (review_stats.total_inq_count != 0)]\n",
    "# this leaves 918438 total reviews\n",
    "\n",
    "# remove outliers where the Z-score of the pos or neg word counts is < 3\n",
    "review_stats = review_stats[(\n",
    "    np.abs(stats.zscore(review_stats[['pos_afinn_count', 'neg_afinn_count', \n",
    "                                      'pos_bing_count', 'neg_bing_count',\n",
    "                                      'pos_mpqa_count', 'neg_mpqa_count',\n",
    "                                      'pos_inq_count', 'neg_inq_count']])) < 3\n",
    ").all(axis=1)]\n",
    "\n",
    "# with all outliers removed (having a count +/- 3 SDs), 889807 rows remain. \n",
    "\n",
    "# Rating is our target variable, the other columns are features. \n",
    "y = review_stats['rating'].values\n",
    "X = review_stats.drop('rating', axis=1).values\n",
    "\n",
    "# Create a training and testing set \n",
    "from sklearn.model_selection import train_test_split\n",
    "\n",
    "X_train, X_test, y_train, y_test = train_test_split(\n",
    "    X, y, test_size=0.2, random_state=1)\n"
   ]
  },
  {
   "cell_type": "code",
   "execution_count": 2,
   "metadata": {},
   "outputs": [],
   "source": [
    "# Setup KNN\n",
    "from sklearn.neighbors import KNeighborsClassifier\n",
    "from scipy import stats\n",
    "from sklearn.model_selection import cross_val_score\n",
    "\n",
    "from sklearn.model_selection import RandomizedSearchCV\n",
    "\n",
    "knn = KNeighborsClassifier()\n",
    "\n",
    "param_knn = {'n_neighbors': stats.randint(5,20),\n",
    "             'leaf_size': stats.randint(20,40)}\n",
    "\n",
    "knn_cv = RandomizedSearchCV(knn, param_knn, cv=5, n_iter=2, n_jobs=2)\n"
   ]
  },
  {
   "cell_type": "code",
   "execution_count": 4,
   "metadata": {},
   "outputs": [
    {
     "name": "stdout",
     "output_type": "stream",
     "text": [
      "{'leaf_size': 35, 'n_neighbors': 13}\n",
      "0.320808417663\n",
      "             precision    recall  f1-score   support\n",
      "\n",
      "          1       0.15      0.04      0.06       689\n",
      "          2       0.13      0.05      0.07      1542\n",
      "          3       0.23      0.24      0.24      3850\n",
      "          4       0.37      0.50      0.42      6183\n",
      "          5       0.35      0.28      0.31      5128\n",
      "\n",
      "avg / total       0.30      0.32      0.30     17392\n",
      "\n"
     ]
    }
   ],
   "source": [
    "knn_cv.fit(X_train, y_train)\n",
    "\n",
    "knn_y_pred = knn_cv.predict(X_test)\n",
    "\n",
    "#stats \n",
    "from sklearn.metrics import classification_report\n",
    "print(knn_cv.best_params_)\n",
    "print(knn_cv.best_score_)\n",
    "print(classification_report(y_test, knn_y_pred))"
   ]
  }
 ],
 "metadata": {
  "kernelspec": {
   "display_name": "Python 3",
   "language": "python",
   "name": "python3"
  },
  "language_info": {
   "codemirror_mode": {
    "name": "ipython",
    "version": 3
   },
   "file_extension": ".py",
   "mimetype": "text/x-python",
   "name": "python",
   "nbconvert_exporter": "python",
   "pygments_lexer": "ipython3",
   "version": "3.6.3"
  }
 },
 "nbformat": 4,
 "nbformat_minor": 2
}
