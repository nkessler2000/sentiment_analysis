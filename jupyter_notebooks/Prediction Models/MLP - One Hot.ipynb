{
 "cells": [
  {
   "cell_type": "code",
   "execution_count": 5,
   "metadata": {},
   "outputs": [],
   "source": [
    "# Data Prep\n",
    "# import modules and load data\n",
    "import pandas as pd\n",
    "import numpy as np\n",
    "import matplotlib.pyplot as plt\n",
    "import seaborn as sns\n",
    "import sqlite3\n",
    "import os\n",
    "from scipy import stats\n",
    "\n",
    "my_dir = os.path.realpath('.')\n",
    "db_file = os.path.join(my_dir, '../../gr_sentiment_analysis/data/books.db')\n",
    "conn = sqlite3.connect(db_file)\n",
    "\n",
    "review_stats = pd.read_sql_query('SELECT * FROM review_stats',con=conn)\n",
    "\n",
    "# Clean up the data a bit. Remove reviews with a score of 0 since they won't be part of the prediction model \n",
    "\n",
    "review_stats = review_stats[review_stats['rating'] != 0]\n",
    "\n",
    "# Review ID is not needed for this analysis so should be dropped\n",
    "if review_stats.columns.contains('review_id'):\n",
    "    review_stats.drop('review_id', axis=1, inplace=True)\n",
    "\n",
    "# remove any reviews with a total AFINN or Bing count of 0, since this means there are no matching\n",
    "# words in either lexicon and these reviews cannot be used in this analysis\n",
    "review_stats = review_stats[(review_stats.total_afinn_count != 0) & (review_stats.total_bing_count != 0)\n",
    "                           & (review_stats.total_mpqa_count != 0) & (review_stats.total_inq_count != 0)]\n",
    "# this leaves 877941 total reviews\n",
    "\n",
    "# remove outliers where the Z-score of the pos or neg word counts is < 3\n",
    "review_stats = review_stats[(\n",
    "    np.abs(stats.zscore(review_stats[['pos_afinn_count', 'neg_afinn_count', \n",
    "                                      'pos_bing_count', 'neg_bing_count',\n",
    "                                      'pos_mpqa_count', 'neg_mpqa_count',\n",
    "                                      'pos_inq_count', 'neg_inq_count']])) < 3\n",
    ").all(axis=1)]\n",
    "\n",
    "# with all outliers removed (having a count +/- 3 SDs), 889807 rows remain. \n",
    "\n",
    "# Rating is our target variable, the other columns are features. \n",
    "y = review_stats['rating'].values\n",
    "X = review_stats.drop('rating', axis=1).values\n",
    "\n",
    "# Create a training and testing set \n",
    "from sklearn.model_selection import train_test_split\n",
    "\n",
    "X_train, X_test, y_train, y_test = train_test_split(\n",
    "    X, y, test_size=0.2, random_state=1)\n"
   ]
  },
  {
   "cell_type": "code",
   "execution_count": 6,
   "metadata": {},
   "outputs": [],
   "source": [
    "# with all outliers removed (having a count +/- 3 SDs), 889807 rows remain. \n",
    "\n",
    "# Next I want to apply One-hot encoding to the rating column, since we're going to attempt to \n",
    "# classify per rating. \n",
    "\n",
    "one_hot = pd.get_dummies(review_stats['rating'])\n",
    "# and join back with the original data\n",
    "review_stats_onehot = one_hot.join(review_stats)\n",
    "\n",
    "# let's start with the 5s and see how well our model can predict 5/not 5\n",
    "\n",
    "review_stats_5 = review_stats_onehot.drop([1,2,3,4,'rating'], axis=1)\n",
    "\n",
    "# 5 is our target variable, the other columns are features. \n",
    "X = review_stats.drop('rating', axis=1).values\n",
    "y_5 = one_hot[5].values\n",
    "\n",
    "# # Create a training and testing set \n",
    "from sklearn.model_selection import train_test_split\n",
    "\n",
    "X_train, X_test, y_train, y_test = train_test_split(\n",
    "    X, y_5, test_size=0.2, random_state=1)\n"
   ]
  },
  {
   "cell_type": "code",
   "execution_count": 7,
   "metadata": {},
   "outputs": [],
   "source": [
    "# Setup MLP\n",
    "from sklearn.neural_network import MLPClassifier\n",
    "from sklearn.preprocessing import StandardScaler\n",
    "from scipy import stats\n",
    "from sklearn.model_selection import cross_val_score\n",
    "\n",
    "\n",
    "from sklearn.model_selection import RandomizedSearchCV\n",
    "\n",
    "mlp = MLPClassifier()\n",
    "\n",
    "param_mlp = {'hidden_layer_sizes': [(10,), (20,), (30,), (40,)], \n",
    "             'tol': stats.uniform(1e-06, 1e-02),\n",
    "             'alpha':stats.uniform(1e-08, 1e-03),\n",
    "             'learning_rate': ['constant', 'invscaling', 'adaptive'],\n",
    "             'activation': ['identity', 'logistic', 'relu', 'tanh']}\n",
    "\n",
    "def fit_RandomSearchCV(classifier, param_rand, X_train, y_train):\n",
    "    rand_cv = RandomizedSearchCV(classifier, param_rand, cv=5, n_iter=20, n_jobs=2)\n",
    "    rand_cv.fit(X_train, y_train)\n",
    "    return rand_cv\n"
   ]
  },
  {
   "cell_type": "code",
   "execution_count": 8,
   "metadata": {},
   "outputs": [
    {
     "name": "stdout",
     "output_type": "stream",
     "text": [
      "{'activation': 'logistic', 'alpha': 0.00079015859626406395, 'hidden_layer_sizes': (20,), 'learning_rate': 'invscaling', 'tol': 0.008996288956133627}\n",
      "0.715253889787\n",
      "             precision    recall  f1-score   support\n",
      "\n",
      "          0       0.73      0.94      0.82    123603\n",
      "          1       0.56      0.17      0.26     51986\n",
      "\n",
      "avg / total       0.68      0.71      0.66    175589\n",
      "\n"
     ]
    }
   ],
   "source": [
    "mlp_5 = fit_RandomSearchCV(mlp, param_mlp, X_train, y_train)\n",
    "\n",
    "mlp_5_y_pred = mlp_5.predict(X_test)\n",
    "\n",
    "#stats \n",
    "from sklearn.metrics import classification_report\n",
    "print(mlp_5.best_params_)\n",
    "print(mlp_5.best_score_)\n",
    "print(classification_report(y_test, mlp_5_y_pred))\n",
    "\n"
   ]
  },
  {
   "cell_type": "code",
   "execution_count": 9,
   "metadata": {},
   "outputs": [],
   "source": [
    "from sklearn.metrics import accuracy_score\n"
   ]
  },
  {
   "cell_type": "code",
   "execution_count": 10,
   "metadata": {},
   "outputs": [
    {
     "name": "stdout",
     "output_type": "stream",
     "text": [
      "             precision    recall  f1-score   support\n",
      "\n",
      "          0       0.72      0.91      0.81    123603\n",
      "          1       0.45      0.17      0.25     51986\n",
      "\n",
      "avg / total       0.64      0.69      0.64    175589\n",
      "\n"
     ]
    }
   ],
   "source": [
    "# Does Random Forest work any better on predicting the 5s vs non-5s?\n",
    "from sklearn.ensemble import RandomForestClassifier\n",
    "rf = RandomForestClassifier()\n",
    "\n",
    "X_train, X_test, y_train, y_test = train_test_split(\n",
    "    X, y_5, test_size=0.2, random_state=1)\n",
    "\n",
    "rf.fit(X_train, y_train)\n",
    "y_pred_rf_5 = rf.predict(X_test)\n",
    "print(classification_report(y_test, y_pred_rf_5))\n"
   ]
  },
  {
   "cell_type": "code",
   "execution_count": 11,
   "metadata": {},
   "outputs": [
    {
     "name": "stdout",
     "output_type": "stream",
     "text": [
      "{'activation': 'tanh', 'alpha': 4.2379533290348427e-05, 'hidden_layer_sizes': (20,), 'learning_rate': 'adaptive', 'tol': 0.0018764580420794674}\n",
      "0.649957571132\n",
      "             precision    recall  f1-score   support\n",
      "\n",
      "          0       0.65      1.00      0.79    114168\n",
      "          1       0.50      0.00      0.00     61421\n",
      "\n",
      "avg / total       0.60      0.65      0.51    175589\n",
      "\n"
     ]
    }
   ],
   "source": [
    "# Let's try the same thing again, predicting the 4s.\n",
    "y_4 = one_hot[4]\n",
    "X_train, X_test, y_train, y_test = train_test_split(\n",
    "    X, y_4, test_size=0.2, random_state=1)\n",
    "\n",
    "mlp_4 = fit_RandomSearchCV(mlp, param_mlp, X_train, y_train)\n",
    "\n",
    "mlp_4_y_pred = mlp_4.predict(X_test)\n",
    "\n",
    "#stats \n",
    "from sklearn.metrics import classification_report\n",
    "print(mlp_4.best_params_)\n",
    "print(mlp_4.best_score_)\n",
    "print(classification_report(y_test, mlp_4_y_pred))"
   ]
  },
  {
   "cell_type": "code",
   "execution_count": 12,
   "metadata": {},
   "outputs": [
    {
     "name": "stdout",
     "output_type": "stream",
     "text": [
      "{'activation': 'logistic', 'alpha': 0.00076721832098188285, 'hidden_layer_sizes': (10,), 'learning_rate': 'invscaling', 'tol': 0.0040359846027053147}\n",
      "0.774053466068\n",
      "             precision    recall  f1-score   support\n",
      "\n",
      "          0       0.77      1.00      0.87    135795\n",
      "          1       0.00      0.00      0.00     39794\n",
      "\n",
      "avg / total       0.60      0.77      0.67    175589\n",
      "\n"
     ]
    },
    {
     "name": "stderr",
     "output_type": "stream",
     "text": [
      "C:\\Program Files (x86)\\Microsoft Visual Studio\\Shared\\Anaconda3_64\\lib\\site-packages\\sklearn\\metrics\\classification.py:1135: UndefinedMetricWarning: Precision and F-score are ill-defined and being set to 0.0 in labels with no predicted samples.\n",
      "  'precision', 'predicted', average, warn_for)\n"
     ]
    }
   ],
   "source": [
    "# And with the 3s\n",
    "y_3 = one_hot[3]\n",
    "X_train, X_test, y_train, y_test = train_test_split(\n",
    "    X, y_3, test_size=0.2, random_state=1)\n",
    "\n",
    "mlp_3 = fit_RandomSearchCV(mlp, param_mlp, X_train, y_train)\n",
    "\n",
    "mlp_3_y_pred = mlp_3.predict(X_test)\n",
    "\n",
    "#stats \n",
    "from sklearn.metrics import classification_report\n",
    "print(mlp_3.best_params_)\n",
    "print(mlp_3.best_score_)\n",
    "print(classification_report(y_test, mlp_3_y_pred))"
   ]
  },
  {
   "cell_type": "code",
   "execution_count": 13,
   "metadata": {},
   "outputs": [
    {
     "name": "stdout",
     "output_type": "stream",
     "text": [
      "{'activation': 'tanh', 'alpha': 0.0009261035832554053, 'hidden_layer_sizes': (10,), 'learning_rate': 'adaptive', 'tol': 0.0029497365460113339}\n",
      "0.910672995877\n",
      "             precision    recall  f1-score   support\n",
      "\n",
      "          0       0.91      1.00      0.95    159803\n",
      "          1       0.00      0.00      0.00     15786\n",
      "\n",
      "avg / total       0.83      0.91      0.87    175589\n",
      "\n"
     ]
    },
    {
     "name": "stderr",
     "output_type": "stream",
     "text": [
      "C:\\Program Files (x86)\\Microsoft Visual Studio\\Shared\\Anaconda3_64\\lib\\site-packages\\sklearn\\metrics\\classification.py:1135: UndefinedMetricWarning: Precision and F-score are ill-defined and being set to 0.0 in labels with no predicted samples.\n",
      "  'precision', 'predicted', average, warn_for)\n"
     ]
    }
   ],
   "source": [
    "# With the 2s\n",
    "y_2 = one_hot[2]\n",
    "X_train, X_test, y_train, y_test = train_test_split(\n",
    "    X, y_2, test_size=0.2, random_state=1)\n",
    "\n",
    "mlp_2 = fit_RandomSearchCV(mlp, param_mlp, X_train, y_train)\n",
    "\n",
    "mlp_2_y_pred = mlp_2.predict(X_test)\n",
    "\n",
    "#stats \n",
    "from sklearn.metrics import classification_report\n",
    "print(mlp_2.best_params_)\n",
    "print(mlp_2.best_score_)\n",
    "print(classification_report(y_test, mlp_2_y_pred))"
   ]
  },
  {
   "cell_type": "code",
   "execution_count": null,
   "metadata": {},
   "outputs": [],
   "source": []
  },
  {
   "cell_type": "code",
   "execution_count": 14,
   "metadata": {},
   "outputs": [
    {
     "name": "stdout",
     "output_type": "stream",
     "text": [
      "{'activation': 'logistic', 'alpha': 1.6199591208298218e-05, 'hidden_layer_sizes': (40,), 'learning_rate': 'invscaling', 'tol': 0.0067458643854741733}\n",
      "0.961989145044\n",
      "             precision    recall  f1-score   support\n",
      "\n",
      "          0       0.96      1.00      0.98    168987\n",
      "          1       0.00      0.00      0.00      6602\n",
      "\n",
      "avg / total       0.93      0.96      0.94    175589\n",
      "\n"
     ]
    },
    {
     "name": "stderr",
     "output_type": "stream",
     "text": [
      "C:\\Program Files (x86)\\Microsoft Visual Studio\\Shared\\Anaconda3_64\\lib\\site-packages\\sklearn\\metrics\\classification.py:1135: UndefinedMetricWarning: Precision and F-score are ill-defined and being set to 0.0 in labels with no predicted samples.\n",
      "  'precision', 'predicted', average, warn_for)\n"
     ]
    }
   ],
   "source": [
    "# Lastly the 1s\n",
    "y_1 = one_hot[1]\n",
    "X_train, X_test, y_train, y_test = train_test_split(\n",
    "    X, y_1, test_size=0.2, random_state=1)\n",
    "\n",
    "mlp_1 = fit_RandomSearchCV(mlp, param_mlp, X_train, y_train)\n",
    "\n",
    "mlp_1_y_pred = mlp_2.predict(X_test)\n",
    "\n",
    "#stats \n",
    "from sklearn.metrics import classification_report\n",
    "print(mlp_1.best_params_)\n",
    "print(mlp_1.best_score_)\n",
    "print(classification_report(y_test, mlp_1_y_pred))\n"
   ]
  },
  {
   "cell_type": "code",
   "execution_count": 15,
   "metadata": {},
   "outputs": [
    {
     "name": "stdout",
     "output_type": "stream",
     "text": [
      "             precision    recall  f1-score   support\n",
      "\n",
      "          0       0.54      0.27      0.36     62182\n",
      "          1       0.69      0.87      0.77    113407\n",
      "\n",
      "avg / total       0.63      0.66      0.62    175589\n",
      "\n"
     ]
    }
   ],
   "source": [
    "# what about 2 variable classification? How does that work with MLP\n",
    "\n",
    "# reviews with ratings of 4 and 5 are considered \"positive\" and 1-3 are \"not positive\"\n",
    "review_stats['pos_review'] = 0\n",
    "review_stats.loc[review_stats['rating'] >= 4,'pos_review'] = 1\n",
    "\n",
    "\n",
    "y_pos = review_stats['pos_review'].values\n",
    "# don't include rating or pos_review in our X values\n",
    "X_pos = review_stats.drop(['rating', 'pos_review'], axis=1).values\n",
    "\n",
    "X_train_pos, X_test_pos, y_train_pos, y_test_pos = train_test_split(\n",
    "    X_pos, y_pos, test_size=0.2, random_state=1)\n",
    "\n",
    "mlp = MLPClassifier(hidden_layer_sizes=(20,), activation='logistic', alpha=0.0008883, learning_rate='invscaling', \n",
    "                   tol=0.000583)\n",
    "\n",
    "mlp.fit(X_train_pos, y_train_pos)\n",
    "mlp_y_new_pred = mlp.predict(X_test_pos)\n",
    "print(classification_report(y_test_pos, mlp_y_new_pred))"
   ]
  },
  {
   "cell_type": "code",
   "execution_count": 16,
   "metadata": {},
   "outputs": [
    {
     "data": {
      "image/png": "[encoded data removed]",
      "text/plain": [
       "<matplotlib.figure.Figure at 0x23980b2fdd8>"
      ]
     },
     "metadata": {},
     "output_type": "display_data"
    }
   ],
   "source": [
    "from sklearn.metrics import roc_curve\n",
    "\n",
    "y_pred_prob = mlp.predict_proba(X_test)[:,1]\n",
    "# we unpack the result into three variables: False Postiive Rate\n",
    "# True Positive Rate, and Thresholds (the values of p)\n",
    "fpr, tpr, thresholds = roc_curve(y_test, y_pred_prob)\n",
    "\n",
    "plt.plot([0,1], [0,1], 'k--')\n",
    "plt.plot(fpr, tpr)\n",
    "plt.xlabel('False Positive Rate')\n",
    "plt.ylabel('True Positive Rate')\n",
    "plt.show()"
   ]
  }
 ],
 "metadata": {
  "kernelspec": {
   "display_name": "Python 3",
   "language": "python",
   "name": "python3"
  },
  "language_info": {
   "codemirror_mode": {
    "name": "ipython",
    "version": 3
   },
   "file_extension": ".py",
   "mimetype": "text/x-python",
   "name": "python",
   "nbconvert_exporter": "python",
   "pygments_lexer": "ipython3",
   "version": "3.6.3"
  }
 },
 "nbformat": 4,
 "nbformat_minor": 2
}
